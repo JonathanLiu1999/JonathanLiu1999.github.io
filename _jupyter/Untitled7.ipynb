{
 "cells": [
  {
   "cell_type": "markdown",
   "id": "negative-luxury",
   "metadata": {},
   "source": [
    "Import packages "
   ]
  },
  {
   "cell_type": "code",
   "execution_count": 1,
   "id": "outside-tracy",
   "metadata": {},
   "outputs": [],
   "source": [
    "import pandas as pd\n",
    "import seaborn as sns \n",
    "from matplotlib import pyplot as plt\n",
    "import numpy as np\n",
    "from plotly import express as px\n",
    "import sqlite3\n",
    "from sklearn.linear_model import LinearRegression\n",
    "from plotly.io import write_html\n"
   ]
  },
  {
   "cell_type": "markdown",
   "id": "gentle-vulnerability",
   "metadata": {},
   "source": [
    "Part 1"
   ]
  },
  {
   "cell_type": "markdown",
   "id": "missing-diesel",
   "metadata": {},
   "source": [
    "Build a database and then send the temperature data to a table called \"temperatures\" in the database."
   ]
  },
  {
   "cell_type": "code",
   "execution_count": 2,
   "id": "reduced-lithuania",
   "metadata": {},
   "outputs": [],
   "source": [
    "conn = sqlite3.connect(\"temps.db\")\n",
    "\n",
    "df = pd.read_csv(\"temps.csv\")\n",
    "\n",
    "# Make the dataframe into our desired format\n",
    "\n",
    "def prepare_df(df):\n",
    "    \"\"\"\n",
    "    The input is a dataframe and the output is a dataframe with proper column names and normalized temperature degree.\n",
    "    \"\"\"\n",
    "    df = df.set_index(keys=[\"ID\", \"Year\"])\n",
    "    df = df.stack()\n",
    "    df = df.reset_index()\n",
    "    df = df.rename(columns = {\"level_2\"  : \"Month\" , 0 : \"Temp\"})\n",
    "    df[\"Month\"] = df[\"Month\"].str[5:].astype(int)\n",
    "    df[\"Temp\"]  = df[\"Temp\"] / 100\n",
    "    return(df)\n",
    "\n",
    "\n",
    "df_iter = pd.read_csv(\"temps.csv\", chunksize = 100000)\n",
    "for df in df_iter:\n",
    "    # Using a for loop here to send data into database by chunksize of 100000 with modification explained below\n",
    "    df = prepare_df(df)\n",
    "    \n",
    "    # Here, I added \"FIPS\" as a new column for the temperature dataframe, namely, df. The reason I did that is to merge this data frame with another one that contains country information later with SQL query. \n",
    "    df[\"FIPS\"] = df[\"ID\"].str[0:2]\n",
    "    # I added a new column called \"Date\", this new column is formed by adding the year and the month columns together and change the format to the standard datetime format.\n",
    "    df[\"Date\"] = pd.to_datetime(df[\"Year\"].astype(str) + \"-\" + df[\"Month\"].astype(str))\n",
    "    \n",
    "    df.to_sql(\"temperatures\", conn, if_exists = \"append\", index = False)"
   ]
  },
  {
   "cell_type": "markdown",
   "id": "acoustic-stretch",
   "metadata": {},
   "source": [
    "Get the countries data and send the countries data into a new table called \"countries\" in the database."
   ]
  },
  {
   "cell_type": "code",
   "execution_count": 3,
   "id": "prime-minimum",
   "metadata": {},
   "outputs": [
    {
     "name": "stderr",
     "output_type": "stream",
     "text": [
      "/opt/anaconda3/envs/PIC16B/lib/python3.7/site-packages/pandas/core/generic.py:2789: UserWarning:\n",
      "\n",
      "The spaces in these column names will not be changed. In pandas versions < 0.14, spaces were converted to underscores.\n",
      "\n"
     ]
    }
   ],
   "source": [
    "\n",
    "\n",
    "countries_url = \"https://raw.githubusercontent.com/mysociety/gaze/master/data/fips-10-4-to-iso-country-codes.csv\"\n",
    "countries = pd.read_csv(countries_url)\n",
    "#Rename the FIPS 10-4 tol FIPS for short, and also I did this to avoid potential problem when doing SQL query.\n",
    "\n",
    "# send data into database created ealier\n",
    "\n",
    "countries = countries.rename(columns = {\"FIPS 10-4\" : \"FIPS\",\"Name\" : \"Country\"})\n",
    "countries.to_sql(\"countries\", conn, if_exists = \"replace\", index = False)"
   ]
  },
  {
   "cell_type": "markdown",
   "id": "comfortable-basis",
   "metadata": {},
   "source": [
    "Get the stations data and send the stations data into a new table called \"stations\" in the database."
   ]
  },
  {
   "cell_type": "code",
   "execution_count": 4,
   "id": "victorian-playback",
   "metadata": {},
   "outputs": [],
   "source": [
    "\n",
    "url = \"https://raw.githubusercontent.com/PhilChodrow/PIC16B/master/datasets/noaa-ghcn/station-metadata.csv\"\n",
    "stations = pd.read_csv(url)\n",
    "\n",
    "# send data into database created ealier\n",
    "stations.to_sql(\"stations\", conn, if_exists = \"replace\", index = False)"
   ]
  },
  {
   "cell_type": "markdown",
   "id": "enhanced-aircraft",
   "metadata": {},
   "source": [
    "To verify that the data read in from url and CSV file previously are properly sent to and stored in the database."
   ]
  },
  {
   "cell_type": "code",
   "execution_count": 5,
   "id": "impaired-steps",
   "metadata": {},
   "outputs": [
    {
     "name": "stdout",
     "output_type": "stream",
     "text": [
      "CREATE TABLE \"temperatures\" (\n",
      "\"ID\" TEXT,\n",
      "  \"Year\" INTEGER,\n",
      "  \"Month\" INTEGER,\n",
      "  \"Temp\" REAL,\n",
      "  \"FIPS\" TEXT,\n",
      "  \"Date\" TIMESTAMP\n",
      ")\n",
      "CREATE TABLE \"countries\" (\n",
      "\"FIPS\" TEXT,\n",
      "  \"ISO 3166\" TEXT,\n",
      "  \"Country\" TEXT\n",
      ")\n",
      "CREATE TABLE \"stations\" (\n",
      "\"ID\" TEXT,\n",
      "  \"LATITUDE\" REAL,\n",
      "  \"LONGITUDE\" REAL,\n",
      "  \"STNELEV\" REAL,\n",
      "  \"NAME\" TEXT\n",
      ")\n"
     ]
    }
   ],
   "source": [
    "cursor = conn.cursor()\n",
    "# SQL command \n",
    "cursor.execute(\"SELECT sql FROM sqlite_master WHERE type='table';\")\n",
    "\n",
    "for result in cursor.fetchall():\n",
    "    print(result[0])\n",
    "    "
   ]
  },
  {
   "cell_type": "markdown",
   "id": "statistical-finding",
   "metadata": {},
   "source": [
    "Part 2\n",
    "Write a Query Function"
   ]
  },
  {
   "cell_type": "code",
   "execution_count": 6,
   "id": "retained-airplane",
   "metadata": {},
   "outputs": [],
   "source": [
    "def query_climate_database(country, year_begin, year_end, month):\n",
    "    \"\"\"\n",
    "    This function accepts four arguments:\n",
    "\n",
    "    country, a string giving the name of a country for which data should be returned.\n",
    "    year_begin and year_end, two integers giving the earliest and latest years for which should be returned.\n",
    "    month, an integer giving the month of the year for which should be returned.\n",
    "    \n",
    "    The return value of query_climate_database() is a Pandas dataframe of temperature readings for the specified country, in the specified date range, in the specified month of the year. \n",
    "    \"\"\"\n",
    "    \n",
    "    #SQL command\n",
    "    cmd = \\\n",
    "    \"\"\"\n",
    "    SELECT S.name, T.temp, S.latitude, S.longitude, T.fips, T.year, T.month, C.country\n",
    "    FROM temperatures T\n",
    "    LEFT JOIN stations S ON T.id = S.id\n",
    "    LEFT JOIN countries C ON T.FIPS = C.FIPS\n",
    "    WHERE C.Country = (?) AND T.year >= (?) AND T.year <= (?) AND T.month = (?)\n",
    "    \"\"\"\n",
    "\n",
    "    Result_df = pd.read_sql_query(cmd, conn, params= (country, year_begin, year_end, month,))\n",
    "    return (Result_df)\n",
    "\n",
    "\n"
   ]
  },
  {
   "cell_type": "markdown",
   "id": "unusual-thinking",
   "metadata": {},
   "source": [
    "Part 3"
   ]
  },
  {
   "cell_type": "code",
   "execution_count": null,
   "id": "pacific-habitat",
   "metadata": {},
   "outputs": [],
   "source": [
    "def coef(data_group):\n",
    "    \"\"\"\n",
    "    This function used linear regression to find the coefficient corresponds to the slope of the linear relation.\n",
    "    \"\"\"\n",
    "    x = data_group[[\"Year\"]] \n",
    "    y = data_group[\"Temp\"]   \n",
    "    LR = LinearRegression()\n",
    "    LR.fit(x, y)\n",
    "    return LR.coef_[0]\n",
    "\n",
    "\n",
    "\n",
    "\n",
    "def temperature_coefficient_plot(country, year_begin, year_end, month, min_obs,**kwargs):\n",
    "    \"\"\"\n",
    "    This function accepts five explicit arguments, and an undetermined number of keyword arguments. And the five explicit arguments are: country, year_begin, year_end, and month. This function returns an interactive geographic scatterplot that shows how the average yearly change in temperature varys within a given country.\n",
    "    \"\"\"\n",
    "    \n",
    "    # I first used query_climate_database function I wrote previously to get a dataset.\n",
    "    First_DF = query_climate_database(country, year_begin, year_end, month)\n",
    "    First_DF[\"Year_count\"] = First_DF.groupby([\"NAME\",\"Month\"])[\"Year\"].transform(len)\n",
    "    # Applying filter to get rid off stations that do not have enough years of observation data.\n",
    "    Second_DF = First_DF[First_DF[\"Year_count\"] >= min_obs]\n",
    "    \n",
    "    \n",
    "    coefs = Second_DF .groupby([\"NAME\"]).apply(coef)\n",
    "    coefs = coefs.reset_index()\n",
    "    \n",
    "    \n",
    "    finalDF = coefs.merge(Second_DF, on = \"NAME\")\n",
    "    finalDF = finalDF.rename(columns = {0:\"Estimately Yearly Increase Temperature in Celsius\"})\n",
    "    \n",
    "\n",
    "    # Graph with scatter_mapbox\n",
    "    fig = px.scatter_mapbox(finalDF, \n",
    "                        lat = \"LATITUDE\",\n",
    "                        lon = \"LONGITUDE\", \n",
    "                        hover_name = \"NAME\", \n",
    "                        color = \"Estimately Yearly Increase Temperature in Celsius\",\n",
    "                        labels={'Timestep_str':'Date'},\n",
    "                        title= \"Estimates of yearly increase in temperature in \" + country + \" for stations in month \" + str(month) +\" from year \"+ str(year_begin)+ \" to \"+ str(year_end), \n",
    "                        **kwargs\n",
    "                        )\n",
    "    fig.update_layout(margin={\"r\":0,\"t\":40,\"l\":0,\"b\":0})\n",
    "    fig.show()\n",
    "    write_html(fig, \"my_fancy_plot1.html\")\n",
    " \n",
    "\n",
    "    \n",
    "temperature_coefficient_plot(\"India\", 1980, 2020, 1,5, \n",
    "                        zoom = 1,\n",
    "                        opacity = 0.2,\n",
    "                        height = 300,\n",
    "                        mapbox_style=\"carto-positron\",)\n",
    "\n",
    "   "
   ]
  },
  {
   "cell_type": "markdown",
   "id": "organic-poland",
   "metadata": {},
   "source": [
    "Part 4 Plot 1\n",
    "\n",
    "This Plot gives the temperature of all stations from a userdefined country during a user defined time frame. This plot shows throughout the years, how the stations' temperatures have changed. I represent each station of each year's temeprature as the average temperature of that station throughout that year (the sum of temperatures from 12 months devides by 12). The plot might seem too overwhelming at first especially when we are looking at a country with many stations. However, one of the nice features of px.line is allowing viewers to click on the names of each line (On the right side of the plot) and make unwanted lines to disappear. This plot is very helpful if one wants to learn the change of temperature of certain stations located in a certain country throughout a certain time frame. I demonstrate the use of my function (temperature_trends_plot) with the data from the stations in India from 1980 to 2020. And only stations with user defined years of observation of temperature data will be included."
   ]
  },
  {
   "cell_type": "code",
   "execution_count": 7,
   "id": "alike-number",
   "metadata": {},
   "outputs": [],
   "source": [
    "\n",
    "\n",
    "def query_climate_database_allyear(country, year_begin, year_end):\n",
    "    \"\"\"\n",
    "    This function accepts three arguments:\n",
    "\n",
    "    country, a string giving the name of a country for which data should be returned.\n",
    "    year_begin and year_end, two integers giving the earliest and latest years for which should be returned.\n",
    "\n",
    "    \n",
    "    The return value of query_climate_database() is a Pandas dataframe of temperature readings for the specified country, in the specified date range. \n",
    "    \"\"\"\n",
    "    \n",
    "    #SQL command\n",
    "    cmd = \\\n",
    "    \"\"\"\n",
    "    SELECT S.name, T.temp, S.latitude, S.longitude, T.fips, T.year, T.month, C.country\n",
    "    FROM temperatures T\n",
    "    LEFT JOIN stations S ON T.id = S.id\n",
    "    LEFT JOIN countries C ON T.FIPS = C.FIPS\n",
    "    WHERE C.Country = (?) AND T.year >= (?) AND T.year <= (?) \n",
    "    \"\"\"\n",
    "\n",
    "    Result_df = pd.read_sql_query(cmd, conn, params= (country, year_begin, year_end,))\n",
    "    return (Result_df)\n",
    "\n",
    "\n"
   ]
  },
  {
   "cell_type": "code",
   "execution_count": null,
   "id": "honey-florida",
   "metadata": {},
   "outputs": [],
   "source": [
    "def temperature_trends_plot(country, year_begin, year_end, min_obs,**kwargs):\n",
    "    \"\"\"\n",
    "    This function accepts five explicit arguments, and an undetermined number of keyword arguments. And the five explicit arguments are: country, year_begin, year_end, and month. This function returns an interactive geographic scatterplot that shows how the average yearly change in temperature varys within a given country.\n",
    "    \"\"\"\n",
    "    \n",
    "    # I first used query_climate_database_allyear function I wrote previously to get a dataset.\n",
    "    First_DF = query_climate_database_allyear(country, year_begin, year_end)\n",
    "    First_DF[\"Year_count\"] = First_DF.groupby([\"NAME\",\"Month\"])[\"Year\"].transform(len)\n",
    "    # Applying filter to get rid off stations that do not have enough years of observation data.\n",
    "    \n",
    "    \n",
    "    Second_DF = First_DF[First_DF[\"Year_count\"] >= min_obs]\n",
    "    \n",
    "    time_change = Second_DF.groupby([\"NAME\",\"Year\"])[\"Temp\"].mean()\n",
    "    time_change = time_change.reset_index()\n",
    "    \n",
    "    fig = px.line(time_change, x=\"Year\", y=\"Temp\", color=\"NAME\", line_group=\"NAME\", hover_name=\"NAME\",title= \"Average temperature trends through out a year in \" + country + \" for all stations from year \"+ str(year_begin)+ \" to \"+ str(year_end))\n",
    "\n",
    "\n",
    "    fig.update_layout(margin={\"r\":0,\"t\":40,\"l\":0,\"b\":0})\n",
    "    fig.show()\n",
    "    write_html(fig, \"my_fancy_plot2.html\")\n",
    "   \n",
    "\n",
    "    \n",
    "\n",
    "   \n",
    "\n",
    "\n",
    "temperature_trends_plot(\"India\", 1980, 2020,30)\n",
    "\n",
    "\n"
   ]
  },
  {
   "cell_type": "markdown",
   "id": "upset-ireland",
   "metadata": {},
   "source": [
    "Part 4 Plot 2\n",
    "\n",
    "\n",
    "This plot helps to visualize the difference in average temperature in a specific user-defined month for all stations in the user-defined countries (need to be input as a list) during a user-defined time frame. In my example, I demonstrate my function by using America from 1950 to 2020. As we can see from the plot, there is a huge difference in average temperature for all stations between the data in 1950 and 2020 in the month of August."
   ]
  },
  {
   "cell_type": "code",
   "execution_count": null,
   "id": "piano-netscape",
   "metadata": {},
   "outputs": [],
   "source": [
    "\n",
    "\n",
    "def query_climate_database_Global(year_begin, year_end, month):\n",
    "    \"\"\"\n",
    "    This function accepts three arguments:\n",
    "\n",
    "    year_begin and year_end, two integers giving the earliest and latest years for which should be returned.\n",
    "    month, an integer giving the month of the year for which should be returned.\n",
    "    \n",
    "    The return value of query_climate_database() is a Pandas dataframe of temperature readings for the specified country, in the specified date range, in the specified month of the year. \n",
    "    \"\"\"\n",
    "    \n",
    "    #SQL command\n",
    "    cmd = \\\n",
    "    \"\"\"\n",
    "    SELECT S.name, T.temp, S.latitude, S.longitude, T.fips, T.year, T.month, C.country\n",
    "    FROM temperatures T\n",
    "    LEFT JOIN stations S ON T.id = S.id\n",
    "    LEFT JOIN countries C ON T.FIPS = C.FIPS\n",
    "    WHERE T.year >= (?) AND T.year <= (?) AND T.month = (?)\n",
    "    \"\"\"\n",
    "\n",
    "    Result_df = pd.read_sql_query(cmd, conn, params= (year_begin, year_end, month,))\n",
    "    return (Result_df)\n",
    "\n",
    "\n",
    "\n",
    "def temperature_difference_plot(ountriesinput,year_begin, year_end, month, min_obs,**kwargs):\n",
    "    \"\"\"\n",
    "    This function accepts five explicit arguments, and an undetermined number of keyword arguments. And the five explicit arguments are: country (user needs to provide in the form of a list), year_begin, year_end, and month. This function returns an interactive geographic scatterplot that shows how the average yearly change in temperature varys within a given country.\n",
    "    \"\"\"\n",
    "    \n",
    "    # I first used query_climate_database function I wrote previously to get a dataset.\n",
    "    First_DF = query_climate_database_Global(year_begin, year_end, month)\n",
    "    First_DF[\"Year_count\"] = First_DF.groupby([\"NAME\",\"Month\"])[\"Year\"].transform(len)\n",
    "    # Applying filter to get rid off stations that do not have enough years of observation data.\n",
    "    Second_DF = First_DF[First_DF[\"Year_count\"] >= min_obs]\n",
    "    \n",
    "    # Find the mean temperature of all stations from a user-define country of a user-defined month\n",
    "    Second_DF = Second_DF.groupby([\"Country\",\"Year\",\"Month\"])[\"Temp\"].mean()\n",
    "    Second_DF = pd.DataFrame(Second_DF)\n",
    "    Second_DF = Second_DF.reset_index()\n",
    "    # Subset the dataframe according to wanted countries\n",
    "    Second_DF = Second_DF[Second_DF.Country.isin(ountriesinput)]\n",
    "    \n",
    "    # The following steps are to subset dataframe into two dataframes, one with temperature data for all countries at the starting year, one with temperature data for all countries at the ending year. \n",
    "    Third_DF = Second_DF.reset_index()\n",
    "    Begin_DF = Third_DF[Third_DF[\"Year\"] == year_begin]\n",
    "    Begin_DF = Begin_DF.rename(columns = {\"Temp\" : \"Begin\"})\n",
    "    End_DF = Third_DF[Third_DF[\"Year\"] == year_end]\n",
    "    End_DF = End_DF.rename(columns = {\"Temp\" : \"End\"})\n",
    "    \n",
    "    # Merge the two dataframes together and create a new column which is the difference in temperature between the starting year and the ending year.\n",
    "    FinalDF = End_DF.merge(Begin_DF , on = \"Country\")\n",
    "    FinalDF[\"Difference\"] = FinalDF[\"End\"] - FinalDF[\"Begin\"]\n",
    "  \n",
    "    # Use a relplot to visualize the difference in temperature\n",
    "   \n",
    "    sns.relplot(data = FinalDF, \n",
    "            x = \"Difference\", \n",
    "            y = \"Country\",\n",
    "            alpha = 0.5, \n",
    "            height = 4,\n",
    "            aspect = 1.7,\n",
    "            **kwargs\n",
    "                        )\n",
    "    \n",
    "    # Add a straight line x = 0 to see the differences comparing to 0\n",
    "    plt.plot([0,0], [0,160], color = \"Red\")\n",
    "    # Add titles\n",
    "    labs = plt.gca().set(xlabel = \"Difference in Temperature\",\n",
    "                     title = \"Difference in Average Temperature in Month \" + str(month) + \" for All Stations from Year \"+ str(year_begin) + \" to \" + str(year_end))\n",
    "    \n",
    "    plt.savefig(\"plot3.png\", bbox_inches = \"tight\")\n",
    "\n",
    "    \n",
    "    \n",
    "   \n",
    "    \n",
    "\n",
    "ountriesinputt = [\"United States\"]\n",
    "\n",
    "temperature_difference_plot(ountriesinputt,1950, 2020, 8,5)\n",
    "\n",
    "   \n"
   ]
  }
 ],
 "metadata": {
  "kernelspec": {
   "display_name": "Python 3",
   "language": "python",
   "name": "python3"
  },
  "language_info": {
   "codemirror_mode": {
    "name": "ipython",
    "version": 3
   },
   "file_extension": ".py",
   "mimetype": "text/x-python",
   "name": "python",
   "nbconvert_exporter": "python",
   "pygments_lexer": "ipython3",
   "version": "3.7.10"
  }
 },
 "nbformat": 4,
 "nbformat_minor": 5
}
